{
 "cells": [
  {
   "cell_type": "markdown",
   "metadata": {},
   "source": [
    "### Домашнее задание к уроку 1."
   ]
  },
  {
   "cell_type": "code",
   "execution_count": 111,
   "metadata": {},
   "outputs": [],
   "source": [
    "import numpy as np\n",
    "from math import factorial"
   ]
  },
  {
   "cell_type": "markdown",
   "metadata": {},
   "source": [
    "#### 1. Из колоды в 52 карты извлекаются случайным образом 4 карты.\n",
    "a) Найти вероятность того, что все карты – крести.\n",
    "б) Найти вероятность, что среди 4-х карт окажется хотя бы один туз."
   ]
  },
  {
   "cell_type": "markdown",
   "metadata": {},
   "source": [
    "#### a) Найти вероятность того, что все карты – крести (сочетание)."
   ]
  },
  {
   "cell_type": "code",
   "execution_count": 112,
   "metadata": {},
   "outputs": [],
   "source": [
    "def combinations(n, k):\n",
    "    return int(factorial(n) / (factorial(k) * factorial(n - k)))"
   ]
  },
  {
   "cell_type": "code",
   "execution_count": 113,
   "metadata": {},
   "outputs": [
    {
     "name": "stdout",
     "output_type": "stream",
     "text": [
      "Вероятность равна: 0.0026 или 0.26 %\n"
     ]
    }
   ],
   "source": [
    "# Общее количество способов извлечь 4 карты из колоды в 52 карты:\n",
    "c1_1 = combinations(52, 4)\n",
    "# Количество комбинаций из 4 карт одной масти (крести) в колоде из 52 карт.\n",
    "c1_2 = combinations(13, 4)\n",
    "a1_1 = c1_2/c1_1\n",
    "print(f'Вероятность равна: {a1_1:.4f} или {a1_1*100:.2f} %')"
   ]
  },
  {
   "cell_type": "markdown",
   "metadata": {},
   "source": [
    "#### б) Найти вероятность, что среди 4-х карт окажется хотя бы один туз."
   ]
  },
  {
   "cell_type": "code",
   "execution_count": 114,
   "metadata": {},
   "outputs": [
    {
     "name": "stdout",
     "output_type": "stream",
     "text": [
      "Общее количество способов: 270725\n"
     ]
    }
   ],
   "source": [
    "print(f'Общее количество способов: {c1_1}')"
   ]
  },
  {
   "cell_type": "code",
   "execution_count": 115,
   "metadata": {},
   "outputs": [
    {
     "name": "stdout",
     "output_type": "stream",
     "text": [
      "Количество сочетаний с одним тузом: 17300\n"
     ]
    }
   ],
   "source": [
    "# Количество сочетаний с одним тузом\n",
    "c1_3 = combinations(48, 3) + combinations(4, 1)\n",
    "print(f'Количество сочетаний с одним тузом: {c1_3}')"
   ]
  },
  {
   "cell_type": "code",
   "execution_count": 116,
   "metadata": {},
   "outputs": [
    {
     "name": "stdout",
     "output_type": "stream",
     "text": [
      "Количество сочетаний с одним тузом: 1134\n"
     ]
    }
   ],
   "source": [
    "# Количество сочетаний с двумя тузами\n",
    "c1_4 = combinations(48, 2) + combinations(4, 2)\n",
    "print(f'Количество сочетаний с одним тузом: {c1_4}')"
   ]
  },
  {
   "cell_type": "code",
   "execution_count": 117,
   "metadata": {},
   "outputs": [
    {
     "name": "stdout",
     "output_type": "stream",
     "text": [
      "Количество сочетаний с одним тузом: 52\n"
     ]
    }
   ],
   "source": [
    "# Количество сочетаний с тремя тузами\n",
    "c1_5 = combinations(48, 1) + combinations(4, 3)\n",
    "print(f'Количество сочетаний с одним тузом: {c1_5}')"
   ]
  },
  {
   "cell_type": "code",
   "execution_count": 118,
   "metadata": {},
   "outputs": [
    {
     "name": "stdout",
     "output_type": "stream",
     "text": [
      "Количество сочетаний с одним тузом: 2\n"
     ]
    }
   ],
   "source": [
    "# Количество сочетаний с четырьмя тузами\n",
    "c1_6 = combinations(48, 0) + combinations(4, 4)\n",
    "print(f'Количество сочетаний с одним тузом: {c1_6}')"
   ]
  },
  {
   "cell_type": "code",
   "execution_count": 119,
   "metadata": {},
   "outputs": [
    {
     "name": "stdout",
     "output_type": "stream",
     "text": [
      "Общее количество сочетаний: 18488\n"
     ]
    }
   ],
   "source": [
    "print(f'Общее количество сочетаний: {c1_3 + c1_4 + c1_5 + c1_6}')"
   ]
  },
  {
   "cell_type": "code",
   "execution_count": 120,
   "metadata": {},
   "outputs": [
    {
     "name": "stdout",
     "output_type": "stream",
     "text": [
      "Вероятность равна: 0.0026 или 0.26 %\n"
     ]
    }
   ],
   "source": [
    "a1_2 = (c1_3 + c1_4 + c1_5 + c1_6)/c1_1\n",
    "print(f'Вероятность равна: {a1_1:.4f} или {a1_1*100:.2f} %')"
   ]
  },
  {
   "cell_type": "markdown",
   "metadata": {},
   "source": [
    "#### 2. На входной двери подъезда установлен кодовый замок, содержащий десять кнопок с цифрами от 0 до 9.\n",
    "Код содержит три цифры, которые нужно нажать одновременно.\n",
    "Какова вероятность того, что человек, не знающий код, откроет дверь с первой попытки?"
   ]
  },
  {
   "cell_type": "code",
   "execution_count": 121,
   "metadata": {},
   "outputs": [
    {
     "name": "stdout",
     "output_type": "stream",
     "text": [
      "Число комбинаций: 120\n"
     ]
    }
   ],
   "source": [
    "# Число возможных сочетаний 3-х цифр из 10:\n",
    "c2 = combinations(10, 3)\n",
    "print(f'Число комбинаций: {c2}')"
   ]
  },
  {
   "cell_type": "code",
   "execution_count": 122,
   "metadata": {},
   "outputs": [
    {
     "name": "stdout",
     "output_type": "stream",
     "text": [
      "Вероятность равна: 0.0083 или 0.83 %\n"
     ]
    }
   ],
   "source": [
    "# Вероятность открыть дверь с первой попытки:\n",
    "a2 = 1/c2\n",
    "print(f'Вероятность равна: {a2:.4f} или {a2*100:.2f} %')"
   ]
  },
  {
   "cell_type": "markdown",
   "metadata": {},
   "source": [
    "#### 3. В ящике имеется 15 деталей, из которых 9 окрашены. Рабочий случайным образом извлекает 3 детали.\n",
    "Какова вероятность того, что все извлеченные детали окрашены?"
   ]
  },
  {
   "cell_type": "code",
   "execution_count": 123,
   "metadata": {},
   "outputs": [
    {
     "name": "stdout",
     "output_type": "stream",
     "text": [
      "Число комбинаций: 455\n"
     ]
    }
   ],
   "source": [
    "# Число возможных сочетаний 3-х деталей из 15:\n",
    "c3_1 = combinations(15, 3)\n",
    "print(f'Число комбинаций: {c3_1}')"
   ]
  },
  {
   "cell_type": "code",
   "execution_count": 124,
   "metadata": {},
   "outputs": [
    {
     "name": "stdout",
     "output_type": "stream",
     "text": [
      "Число комбинаций: 84\n"
     ]
    }
   ],
   "source": [
    "# Число возможных сочетаний 3-х окрашенных деталей из 9:\n",
    "c3_2 = combinations(9, 3)\n",
    "print(f'Число комбинаций: {c3_2}')"
   ]
  },
  {
   "cell_type": "code",
   "execution_count": 125,
   "metadata": {},
   "outputs": [
    {
     "name": "stdout",
     "output_type": "stream",
     "text": [
      "Вероятность равна: 0.1846 или 18.46 %\n"
     ]
    }
   ],
   "source": [
    "# Вероятность того, что все извлеченные детали окрашены:\n",
    "a3 = c3_2/c3_1\n",
    "print(f'Вероятность равна: {a3:.4f} или {a3*100:.2f} %')"
   ]
  },
  {
   "cell_type": "markdown",
   "metadata": {},
   "source": [
    "#### 4. В лотерее 100 билетов. Из них 2 выигрышных.\n",
    "Какова вероятность того, что 2 приобретенных билета окажутся выигрышными?"
   ]
  },
  {
   "cell_type": "code",
   "execution_count": 126,
   "metadata": {},
   "outputs": [
    {
     "data": {
      "text/plain": [
       "0.02"
      ]
     },
     "execution_count": 126,
     "metadata": {},
     "output_type": "execute_result"
    }
   ],
   "source": [
    "# Вероятность того, что первый выбранный билет - выигрышный (P(A)=m/n):\n",
    "c4_1 = 2/100\n",
    "c4_1"
   ]
  },
  {
   "cell_type": "code",
   "execution_count": 127,
   "metadata": {},
   "outputs": [
    {
     "data": {
      "text/plain": [
       "0.010101010101010102"
      ]
     },
     "execution_count": 127,
     "metadata": {},
     "output_type": "execute_result"
    }
   ],
   "source": [
    "# Вероятность того, что второй выбранный билет - выигрышный (P(A)=m/n):\n",
    "c4_2 = 1/99\n",
    "c4_2"
   ]
  },
  {
   "cell_type": "code",
   "execution_count": 128,
   "metadata": {},
   "outputs": [
    {
     "name": "stdout",
     "output_type": "stream",
     "text": [
      "Вероятность равна: 0.0002 или 0.02 %\n"
     ]
    }
   ],
   "source": [
    "# Вероятность того, что оба приобретенных билета - выигрышные:\n",
    "a4 = c4_1 * c4_2\n",
    "print(f'Вероятность равна: {a4:.4f} или {a4*100:.2f} %')"
   ]
  }
 ],
 "metadata": {
  "kernelspec": {
   "display_name": "Python 3",
   "language": "python",
   "name": "python3"
  },
  "language_info": {
   "codemirror_mode": {
    "name": "ipython",
    "version": 3
   },
   "file_extension": ".py",
   "mimetype": "text/x-python",
   "name": "python",
   "nbconvert_exporter": "python",
   "pygments_lexer": "ipython3",
   "version": "3.7.6"
  }
 },
 "nbformat": 4,
 "nbformat_minor": 4
}
