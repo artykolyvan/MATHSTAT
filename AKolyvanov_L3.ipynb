{
 "cells": [
  {
   "cell_type": "code",
   "execution_count": 114,
   "metadata": {},
   "outputs": [],
   "source": [
    "from math import factorial\n",
    "import numpy as np\n",
    "import pandas as pd\n",
    "import matplotlib.pyplot as plt\n",
    "import warnings\n",
    "warnings.filterwarnings('ignore')"
   ]
  },
  {
   "cell_type": "code",
   "execution_count": 115,
   "metadata": {},
   "outputs": [],
   "source": [
    "def combinations(n, k):\n",
    "    return int(factorial(n) / (factorial(k) * factorial(n - k)))"
   ]
  },
  {
   "cell_type": "markdown",
   "metadata": {},
   "source": [
    "#### Задача 1"
   ]
  },
  {
   "cell_type": "raw",
   "metadata": {},
   "source": [
    "1. Даны значения зарплат из выборки выпускников:\n",
    "100, 80, 75, 77, 89, 33, 45, 25, 65, 17, 30, 24, 57, 55, 70, 75, 65, 84, 90, 150.\n",
    "Посчитать (желательно без использования статистических методов наподобие std, var, mean)\n",
    "среднее арифметическое, среднее квадратичное отклонение, смещенную и несмещенную оценки дисперсий для данной выборки."
   ]
  },
  {
   "cell_type": "code",
   "execution_count": 116,
   "metadata": {},
   "outputs": [],
   "source": [
    "# Массив значений зарплат из выборки выпускников:\n",
    "z = np.array([100, 80, 75, 77, 89, 33, 45, 25, 65, 17, 30, 24, 57, 55, 70, 75, 65, 84, 90, 150])"
   ]
  },
  {
   "cell_type": "code",
   "execution_count": 117,
   "metadata": {},
   "outputs": [
    {
     "data": {
      "text/plain": [
       "(20,)"
      ]
     },
     "execution_count": 117,
     "metadata": {},
     "output_type": "execute_result"
    }
   ],
   "source": [
    "# Форма массива:\n",
    "z.shape"
   ]
  },
  {
   "cell_type": "code",
   "execution_count": 118,
   "metadata": {},
   "outputs": [
    {
     "data": {
      "text/plain": [
       "array([ 17,  24,  25,  30,  33,  45,  55,  57,  65,  65,  70,  75,  75,\n",
       "        77,  80,  84,  89,  90, 100, 150])"
      ]
     },
     "execution_count": 118,
     "metadata": {},
     "output_type": "execute_result"
    }
   ],
   "source": [
    "# Сротировка массива:\n",
    "z.sort()\n",
    "z"
   ]
  },
  {
   "cell_type": "code",
   "execution_count": 119,
   "metadata": {},
   "outputs": [
    {
     "name": "stdout",
     "output_type": "stream",
     "text": [
      "Среднее арифметическое равно: 65.3 Проверка: 65.3\n"
     ]
    }
   ],
   "source": [
    "# Среднее арифметическое (математическое ожидание) выборки:\n",
    "z_mean = z.sum() / len(z)\n",
    "print(f'Среднее арифметическое равно: {z_mean} Проверка: {z.mean()}')"
   ]
  },
  {
   "cell_type": "code",
   "execution_count": 120,
   "metadata": {},
   "outputs": [
    {
     "name": "stdout",
     "output_type": "stream",
     "text": [
      "Среднее квадратичное отклонение равно: 30.82 Проверка: 30.82\n"
     ]
    }
   ],
   "source": [
    "# Среднее квадратичное отклонение выборки:\n",
    "z_std = np.sqrt(((z - z.mean())**2).sum() / len(z))\n",
    "print(f'Среднее квадратичное отклонение равно: {z_std:.2f} Проверка: {z.std():.2f}')"
   ]
  },
  {
   "cell_type": "code",
   "execution_count": 121,
   "metadata": {},
   "outputs": [
    {
     "name": "stdout",
     "output_type": "stream",
     "text": [
      "# Смещенная оценка дисперсии выборки равна: 950.11 Проверка: 950.11\n"
     ]
    }
   ],
   "source": [
    "# Смещенная оценка дисперсии выборки:\n",
    "z_variance_1 = ((z - z.mean())**2).sum() / len(z)\n",
    "print(f'# Смещенная оценка дисперсии выборки равна: {z_variance_1:.2f} Проверка: {z.var(ddof=0):.2f}')"
   ]
  },
  {
   "cell_type": "code",
   "execution_count": 122,
   "metadata": {},
   "outputs": [
    {
     "name": "stdout",
     "output_type": "stream",
     "text": [
      "# Несмещенная оценка дисперсии выборки равна: 1000.12 Проверка: 1000.12\n"
     ]
    }
   ],
   "source": [
    "# Несмещенная оценка дисперсии выборки:\n",
    "z_variance_2 = ((z - z.mean())**2).sum() / (len(z) - 1)\n",
    "print(f'# Несмещенная оценка дисперсии выборки равна: {z_variance_2:.2f} Проверка: {z.var(ddof=1):.2f}')"
   ]
  },
  {
   "cell_type": "markdown",
   "metadata": {},
   "source": [
    "#### Задача 2"
   ]
  },
  {
   "cell_type": "raw",
   "metadata": {},
   "source": [
    "2. В первом ящике находится 8 мячей, из которых 5 - белые. Во втором ящике - 12 мячей, из которых 5 белых.\n",
    "Из первого ящика вытаскивают случайным образом два мяча, из второго - 4.\n",
    "Какова вероятность того, что 3 мяча белые?"
   ]
  },
  {
   "cell_type": "code",
   "execution_count": 123,
   "metadata": {},
   "outputs": [
    {
     "name": "stdout",
     "output_type": "stream",
     "text": [
      "Вероятность равна: 0.1263 или 12.63 %\n"
     ]
    }
   ],
   "source": [
    "# Вероятность того, что два белых мяча из первого ящика и один белый мяч из второго ящика:\n",
    "P2_1 = (combinations(5, 2) / combinations(8, 2)) * \\\n",
    "        (combinations(5, 1) * combinations(7, 3) / combinations(12, 4))\n",
    "print(f'Вероятность равна: {P2_1:.4f} или {P2_1*100:.2f} %')"
   ]
  },
  {
   "cell_type": "code",
   "execution_count": 124,
   "metadata": {},
   "outputs": [
    {
     "name": "stdout",
     "output_type": "stream",
     "text": [
      "Вероятность равна: 0.2273 или 22.73 %\n"
     ]
    }
   ],
   "source": [
    "# Вероятность того, что один белый мяч из первого ящика и два белых мяча из второго ящика:\n",
    "P2_2 = (combinations(5, 1) * combinations(3, 1) / combinations(8, 2)) * \\\n",
    "        (combinations(5, 2) * combinations(7, 2) / combinations(12, 4))\n",
    "print(f'Вероятность равна: {P2_2:.4f} или {P2_2*100:.2f} %')"
   ]
  },
  {
   "cell_type": "code",
   "execution_count": 125,
   "metadata": {},
   "outputs": [
    {
     "name": "stdout",
     "output_type": "stream",
     "text": [
      "Вероятность равна: 0.0152 или 1.52 %\n"
     ]
    }
   ],
   "source": [
    "# Вероятность того, все три белых мяча из второго ящика:\n",
    "P2_3 = (combinations(3, 2) / combinations(8, 2)) * \\\n",
    "        (combinations(5, 3) * combinations(7, 1) / combinations(12, 4))\n",
    "print(f'Вероятность равна: {P2_3:.4f} или {P2_3*100:.2f} %')"
   ]
  },
  {
   "cell_type": "code",
   "execution_count": 126,
   "metadata": {},
   "outputs": [
    {
     "name": "stdout",
     "output_type": "stream",
     "text": [
      "Вероятность равна: 0.3687 или 36.87 %\n"
     ]
    }
   ],
   "source": [
    "# Вероятность того, что 3 мяча белые:\n",
    "P2 = P2_1 + P2_2 + P2_3\n",
    "print(f'Вероятность равна: {P2:.4f} или {P2*100:.2f} %')"
   ]
  },
  {
   "cell_type": "markdown",
   "metadata": {},
   "source": [
    "#### Задача 3"
   ]
  },
  {
   "cell_type": "raw",
   "metadata": {},
   "source": [
    "3. На соревновании по биатлону один из трех спортсменов стреляет и попадает в мишень.\n",
    "Вероятность попадания для первого спортсмена равна 0.9, для второго — 0.8, для третьего — 0.6.\n",
    "Найти вероятность того, что выстрел произведен: a). первым спортсменом б). вторым спортсменом в). третьим спортсменом."
   ]
  },
  {
   "cell_type": "code",
   "execution_count": 127,
   "metadata": {},
   "outputs": [
    {
     "name": "stdout",
     "output_type": "stream",
     "text": [
      "Вероятность равна: 0.7667 или 76.67 %\n"
     ]
    }
   ],
   "source": [
    "# Полная вероятность попадания в мишень:\n",
    "P_A = (0.9 + 0.8 + 0.6)/3\n",
    "print(f'Вероятность равна: {P_A:.4f} или {P_A*100:.2f} %')"
   ]
  },
  {
   "cell_type": "code",
   "execution_count": 128,
   "metadata": {},
   "outputs": [
    {
     "name": "stdout",
     "output_type": "stream",
     "text": [
      "Вероятность равна: 0.3913 или 39.13 %\n"
     ]
    }
   ],
   "source": [
    "# а) Вероятность того, что выстрел произведен первым спортсменом:\n",
    "P_b1 = 1/3*0.9/P_A\n",
    "print(f'Вероятность равна: {P_b1:.4f} или {P_b1*100:.2f} %')"
   ]
  },
  {
   "cell_type": "code",
   "execution_count": 129,
   "metadata": {},
   "outputs": [
    {
     "name": "stdout",
     "output_type": "stream",
     "text": [
      "Вероятность равна: 0.3478 или 34.78 %\n"
     ]
    }
   ],
   "source": [
    "# б) Вероятность того, что выстрел произведен вторым спортсменом:\n",
    "P_b2 = 1/3*0.8/P_A\n",
    "print(f'Вероятность равна: {P_b2:.4f} или {P_b2*100:.2f} %')"
   ]
  },
  {
   "cell_type": "code",
   "execution_count": 130,
   "metadata": {},
   "outputs": [
    {
     "name": "stdout",
     "output_type": "stream",
     "text": [
      "Вероятность равна: 0.2609 или 26.09 %\n"
     ]
    }
   ],
   "source": [
    "# в) Вероятность того, что выстрел произведен третьим спортсменом:\n",
    "P_b3 = 1/3*0.6/P_A\n",
    "print(f'Вероятность равна: {P_b3:.4f} или {P_b3*100:.2f} %')"
   ]
  },
  {
   "cell_type": "markdown",
   "metadata": {},
   "source": [
    "#### Задача 4"
   ]
  },
  {
   "cell_type": "raw",
   "metadata": {},
   "source": [
    "4. В университет на факультеты A и B поступило равное количество студентов,\n",
    "а на факультет C студентов поступило столько же, сколько на A и B вместе.\n",
    "Вероятность того, что студент факультета A сдаст первую сессию, равна 0.8.\n",
    "Для студента факультета B эта вероятность равна 0.7, а для студента факультета C - 0.9.\n",
    "Студент сдал первую сессию. Какова вероятность, что он учится:\n",
    "a). на факультете A б). на факультете B в). на факультете C?"
   ]
  },
  {
   "cell_type": "code",
   "execution_count": 131,
   "metadata": {},
   "outputs": [
    {
     "name": "stdout",
     "output_type": "stream",
     "text": [
      "Вероятность равна: 0.8250 или 82.50 %\n"
     ]
    }
   ],
   "source": [
    "# Полная вероятность попадания в мишень:\n",
    "P_A4 = 0.25*0.8 + 0.25*0.7 + 0.5*0.9\n",
    "print(f'Вероятность равна: {P_A4:.4f} или {P_A4*100:.2f} %')"
   ]
  },
  {
   "cell_type": "code",
   "execution_count": 132,
   "metadata": {},
   "outputs": [
    {
     "name": "stdout",
     "output_type": "stream",
     "text": [
      "Вероятность равна: 0.2424 или 24.24 %\n"
     ]
    }
   ],
   "source": [
    "# а) Вероятность того, что студент учится на факультете А:\n",
    "P_sA = 0.25*0.8/P_A4\n",
    "print(f'Вероятность равна: {P_sA:.4f} или {P_sA*100:.2f} %')"
   ]
  },
  {
   "cell_type": "code",
   "execution_count": 133,
   "metadata": {},
   "outputs": [
    {
     "name": "stdout",
     "output_type": "stream",
     "text": [
      "Вероятность равна: 0.2121 или 21.21 %\n"
     ]
    }
   ],
   "source": [
    "# б) Вероятность того, что студент учится на факультете B:\n",
    "P_sB = 0.25*0.7/P_A4\n",
    "print(f'Вероятность равна: {P_sB:.4f} или {P_sB*100:.2f} %')"
   ]
  },
  {
   "cell_type": "code",
   "execution_count": 134,
   "metadata": {},
   "outputs": [
    {
     "name": "stdout",
     "output_type": "stream",
     "text": [
      "Вероятность равна: 0.5455 или 54.55 %\n"
     ]
    }
   ],
   "source": [
    "# в) Вероятность того, что студент учится на факультете C:\n",
    "P_sC = 0.5*0.9/P_A4\n",
    "print(f'Вероятность равна: {P_sC:.4f} или {P_sC*100:.2f} %')"
   ]
  },
  {
   "cell_type": "markdown",
   "metadata": {},
   "source": [
    "#### Задача 5"
   ]
  },
  {
   "cell_type": "raw",
   "metadata": {},
   "source": [
    "5. Устройство состоит из трех деталей.\n",
    "Для первой детали вероятность выйти из строя в первый месяц равна 0.1, для второй - 0.2, для третьей - 0.25.\n",
    "Какова вероятность того, что в первый месяц выйдут из строя:\n",
    "а). все детали б). только две детали в). хотя бы одна деталь г). от одной до двух деталей?"
   ]
  },
  {
   "cell_type": "code",
   "execution_count": 135,
   "metadata": {},
   "outputs": [
    {
     "name": "stdout",
     "output_type": "stream",
     "text": [
      "Вероятность равна: 0.0050 или 0.50 %\n"
     ]
    }
   ],
   "source": [
    "# а). Вероятность того, что в первый месяц выйдут из строя все детали:\n",
    "P5_1 = 0.1 * 0.2 * 0.25\n",
    "print(f'Вероятность равна: {P5_1:.4f} или {P5_1*100:.2f} %')"
   ]
  },
  {
   "cell_type": "code",
   "execution_count": 136,
   "metadata": {},
   "outputs": [
    {
     "name": "stdout",
     "output_type": "stream",
     "text": [
      "Вероятность равна: 0.0800 или 8.00 %\n"
     ]
    }
   ],
   "source": [
    "# б). Вероятность того, что в первый месяц выйдут из строя только две детали:\n",
    "# (вероятность сохранить работоспособное состояние для первой - 0.9, втоой - 0.8, третьей - 0.75)\n",
    "P5_2 = 0.9*0.2*0.25 + 0.1*0.8*0.25 + 0.1*0.2*0.75\n",
    "print(f'Вероятность равна: {P5_2:.4f} или {P5_2*100:.2f} %')"
   ]
  },
  {
   "cell_type": "code",
   "execution_count": 137,
   "metadata": {},
   "outputs": [
    {
     "name": "stdout",
     "output_type": "stream",
     "text": [
      "Вероятность равна: 0.4600 или 46.00 %\n"
     ]
    }
   ],
   "source": [
    "# в). Вероятность того, что в первый месяц выйдет из строя хотя бы одна деталь:\n",
    "P5_3 = 1 - 0.9*0.8*0.75\n",
    "print(f'Вероятность равна: {P5_3:.4f} или {P5_3*100:.2f} %')"
   ]
  },
  {
   "cell_type": "code",
   "execution_count": 138,
   "metadata": {},
   "outputs": [
    {
     "name": "stdout",
     "output_type": "stream",
     "text": [
      "Вероятность равна: 0.4550 или 45.50 %\n"
     ]
    }
   ],
   "source": [
    "# г). Вероятность того, что в первый месяц выйдут из строя от одной до двух деталей:\n",
    "P5_4 = 1 - 0.9*0.8*0.75 - 0.1*0.2*0.25\n",
    "print(f'Вероятность равна: {P5_4:.4f} или {P5_4*100:.2f} %')"
   ]
  }
 ],
 "metadata": {
  "kernelspec": {
   "display_name": "Python 3",
   "language": "python",
   "name": "python3"
  },
  "language_info": {
   "codemirror_mode": {
    "name": "ipython",
    "version": 3
   },
   "file_extension": ".py",
   "mimetype": "text/x-python",
   "name": "python",
   "nbconvert_exporter": "python",
   "pygments_lexer": "ipython3",
   "version": "3.7.6"
  }
 },
 "nbformat": 4,
 "nbformat_minor": 4
}
