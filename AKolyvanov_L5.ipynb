{
 "cells": [
  {
   "cell_type": "markdown",
   "metadata": {},
   "source": [
    "### Домашнее задание к уроку 5."
   ]
  },
  {
   "cell_type": "code",
   "execution_count": 67,
   "metadata": {},
   "outputs": [],
   "source": [
    "import math\n",
    "import numpy as np\n",
    "import scipy as sp\n",
    "import scipy.stats"
   ]
  },
  {
   "cell_type": "markdown",
   "metadata": {},
   "source": [
    "### Задача 1"
   ]
  },
  {
   "cell_type": "raw",
   "metadata": {},
   "source": [
    "1. Известно, что генеральная совокупность распределена нормально со средним квадратическим отклонением, равным 16.\n",
    "Найти доверительный интервал для оценки математического ожидания a с надежностью 0.95,\n",
    "если выборочная средняя M = 80, а объем выборки n = 256."
   ]
  },
  {
   "cell_type": "raw",
   "metadata": {},
   "source": [
    "Z1 = 1.96 для вероятности равной 0,975 (таблица)\n",
    "n1 = 256 - объем выборки\n",
    "a1 = 0.95 - математическое ожидание a с надежностью 0.95\n",
    "M1 = 80 - средняя выборочная\n",
    "sigma1 = 16 - среднее квадратическое отклонение"
   ]
  },
  {
   "cell_type": "code",
   "execution_count": 68,
   "metadata": {},
   "outputs": [],
   "source": [
    "def z_confidence_interval(Z1, n1, sigma1):\n",
    "    step1 = Z1 * sigma1 / np.sqrt(n1)\n",
    "    interval = [80 - step1, 80 + step1]\n",
    "    return interval"
   ]
  },
  {
   "cell_type": "code",
   "execution_count": 69,
   "metadata": {},
   "outputs": [
    {
     "data": {
      "text/plain": [
       "[78.04, 81.96]"
      ]
     },
     "execution_count": 69,
     "metadata": {},
     "output_type": "execute_result"
    }
   ],
   "source": [
    "z_confidence_interval(1.96, 256, 16)"
   ]
  },
  {
   "cell_type": "markdown",
   "metadata": {},
   "source": [
    "### Задача 2"
   ]
  },
  {
   "cell_type": "raw",
   "metadata": {},
   "source": [
    "2. В результате 10 независимых измерений некоторой величины X, выполненных с одинаковой точностью,\n",
    "получены опытные данные: 6.9, 6.1, 6.2, 6.8, 7.5, 6.3, 6.4, 6.9, 6.7, 6.1\n",
    "Предполагая, что результаты измерений подчинены нормальному закону распределения вероятностей,\n",
    "оценить истинное значение величины X при помощи доверительного интервала,\n",
    "покрывающего это значение с доверительной вероятностью 0,95. 3,4 задачи решать через тестирование гипотезы"
   ]
  },
  {
   "cell_type": "raw",
   "metadata": {},
   "source": [
    "n = 10 - объем выборки\n",
    "v = n - 1 - число степеней свободы\n",
    "t = 2.262 для уровня значимости a=0.025 (таблица)"
   ]
  },
  {
   "cell_type": "code",
   "execution_count": 70,
   "metadata": {},
   "outputs": [],
   "source": [
    "# Результаты измерений величины Х:\n",
    "data2 = np.array([6.9, 6.1, 6.2, 6.8, 7.5, 6.3, 6.4, 6.9, 6.7, 6.1])"
   ]
  },
  {
   "cell_type": "code",
   "execution_count": 71,
   "metadata": {},
   "outputs": [
    {
     "name": "stdout",
     "output_type": "stream",
     "text": [
      "M2 = 6.590000000000001, sigma2 = 0.4508017549014448\n"
     ]
    }
   ],
   "source": [
    "# Средняя выборочная\n",
    "M2 = data2.sum() / 10\n",
    "# Cреднее квадратическое отклонение\n",
    "sigma2 = np.std(data2, ddof=1) # ddof=1 - несмещенное стандартное отклонение\n",
    "print(f'M2 = {M2}, sigma2 = {sigma2}')"
   ]
  },
  {
   "cell_type": "code",
   "execution_count": 72,
   "metadata": {},
   "outputs": [],
   "source": [
    "# Вариант 1\n",
    "def t_confidence_interval(n2, t2, sigma2):\n",
    "    step2 = t2 * sigma2 / math.sqrt(n2)\n",
    "    interval = [6.59 - step2, 6.59 + step2]\n",
    "    return interval"
   ]
  },
  {
   "cell_type": "code",
   "execution_count": 73,
   "metadata": {},
   "outputs": [
    {
     "name": "stdout",
     "output_type": "stream",
     "text": [
      "Средняя выборочная: 6.59, Доверительный интервал: [6.267539511206077, 6.912460488793923]\n"
     ]
    }
   ],
   "source": [
    "print(f'Средняя выборочная: {M2:.2f}, Доверительный интервал: {t_confidence_interval(10, 2.262, 0.4508)}')"
   ]
  },
  {
   "cell_type": "code",
   "execution_count": 74,
   "metadata": {},
   "outputs": [],
   "source": [
    "# Вариант 2\n",
    "def mean_confidence_interval(data, confidence=0.95):\n",
    "    a = 1.0*np.array(data2)\n",
    "    n = len(a)\n",
    "    m, se = np.mean(a), scipy.stats.sem(a)\n",
    "    h = se * sp.stats.t._ppf((1+confidence)/2., n-1)\n",
    "    return m, m-h, m+h"
   ]
  },
  {
   "cell_type": "code",
   "execution_count": 75,
   "metadata": {},
   "outputs": [
    {
     "data": {
      "text/plain": [
       "(6.590000000000001, 6.267515851415713, 6.912484148584288)"
      ]
     },
     "execution_count": 75,
     "metadata": {},
     "output_type": "execute_result"
    }
   ],
   "source": [
    "mean_confidence_interval(data2)"
   ]
  },
  {
   "cell_type": "markdown",
   "metadata": {},
   "source": [
    "### Задача 3"
   ]
  },
  {
   "cell_type": "raw",
   "metadata": {},
   "source": [
    "3. Утверждается, что шарики для подшипников, изготовленные автоматическим станком, имеют средний диаметр 17 мм.\n",
    "Используя односторонний критерий с α=0,05, проверить эту гипотезу, если в выборке из n=100 шариков средний диаметр\n",
    "оказался равным 17.5 мм, а дисперсия известна и равна 4 кв.мм. (решать через тестирование гипотезы)"
   ]
  },
  {
   "cell_type": "code",
   "execution_count": 76,
   "metadata": {},
   "outputs": [],
   "source": [
    "M3_0 = 17 # средний диаметр генеральной совокупности\n",
    "M3_1 = 17.5 # средний диаметр выборки\n",
    "n3 = 100 # объем выборки\n",
    "sigma3 = 2 # Cреднее квадратическое отклонение"
   ]
  },
  {
   "cell_type": "code",
   "execution_count": 77,
   "metadata": {},
   "outputs": [
    {
     "name": "stdout",
     "output_type": "stream",
     "text": [
      "наблюдаемое значение критерия Z_н = 2.5\n"
     ]
    }
   ],
   "source": [
    "# Вычислим наблюдаемое значение критерия Z_н:\n",
    "Z_н = (M3_1 - M3_0) / (sigma3 / math.sqrt(n3))\n",
    "print(f'наблюдаемое значение критерия Z_н = {Z_н}')"
   ]
  },
  {
   "cell_type": "raw",
   "metadata": {},
   "source": [
    "H0: диаметр = 17 мм, М = М0\n",
    "Н1: диаметр = 17,5 мм, М > М0\n",
    "По таблице нормального распределения (Z-таблица) найдем значение Z_т = 1.645 (для 95%)\n",
    "Поскольку Z_н > Z_т, нулевая гипотеза отвергается.\n",
    "Принимается гипотеза Н1 на уровне значимости 5% (доверительная вероятность 95%)."
   ]
  },
  {
   "cell_type": "markdown",
   "metadata": {},
   "source": [
    "### Задача 4"
   ]
  },
  {
   "cell_type": "raw",
   "metadata": {},
   "source": [
    "4. Продавец утверждает, что средний вес пачки печенья составляет 200 г.\n",
    "Из партии извлечена выборка из 10 пачек. Вес каждой пачки составляет:\n",
    "202, 203, 199, 197, 195, 201, 200, 204, 194, 190.\n",
    "Известно, что их веса распределены нормально.\n",
    "Верно ли утверждение продавца, если учитывать, что доверительная вероятность равна 99%? (решать через тестирование гипотезы)"
   ]
  },
  {
   "cell_type": "code",
   "execution_count": 78,
   "metadata": {},
   "outputs": [],
   "source": [
    "M4_0 = 200\n",
    "n4 = 10\n",
    "data4 = np.array([202, 203, 199, 197, 195, 201, 200, 204, 194, 190])"
   ]
  },
  {
   "cell_type": "code",
   "execution_count": 79,
   "metadata": {},
   "outputs": [
    {
     "name": "stdout",
     "output_type": "stream",
     "text": [
      "M4 = 198.5, sigma4 = 4.453463071962462\n"
     ]
    }
   ],
   "source": [
    "# Средняя выборочная\n",
    "M4_1 = data4.sum() / len(data4)\n",
    "# Cреднее квадратическое отклонение\n",
    "sigma4 = np.std(data4, ddof=1)\n",
    "print(f'M4 = {M4}, sigma4 = {sigma4}')"
   ]
  },
  {
   "cell_type": "code",
   "execution_count": 80,
   "metadata": {},
   "outputs": [
    {
     "data": {
      "text/plain": [
       "-1.0651074037450896"
      ]
     },
     "execution_count": 80,
     "metadata": {},
     "output_type": "execute_result"
    }
   ],
   "source": [
    "# Вычислим наблюдаемое значение критерия:\n",
    "t_n = (M4_1 - M4_0) / (sigma4 / math.sqrt(n4))\n",
    "t_n"
   ]
  },
  {
   "cell_type": "raw",
   "metadata": {},
   "source": [
    "Нулевая гипотеза Н0: a = 200, альтернативная гипотеза Н1: а ≠ 200.\n",
    "По таблице критических точек распределения Стьюдента найдем критическую точку\n",
    "по уровню значимости α = 0,01 и числу степеней свободы k = 9, откуда t_k = 3.250\n",
    "Поскольку t_n < t_k, то нулевая гипотеза о равенстве среднего веса 200 г верна на уровне значимости 1%."
   ]
  },
  {
   "cell_type": "code",
   "execution_count": null,
   "metadata": {},
   "outputs": [],
   "source": []
  }
 ],
 "metadata": {
  "kernelspec": {
   "display_name": "Python 3",
   "language": "python",
   "name": "python3"
  },
  "language_info": {
   "codemirror_mode": {
    "name": "ipython",
    "version": 3
   },
   "file_extension": ".py",
   "mimetype": "text/x-python",
   "name": "python",
   "nbconvert_exporter": "python",
   "pygments_lexer": "ipython3",
   "version": "3.7.6"
  }
 },
 "nbformat": 4,
 "nbformat_minor": 4
}
