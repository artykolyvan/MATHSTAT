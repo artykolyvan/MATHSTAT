{
 "cells": [
  {
   "cell_type": "markdown",
   "metadata": {},
   "source": [
    "### Домашнее задание к уроку 6."
   ]
  },
  {
   "cell_type": "code",
   "execution_count": 58,
   "metadata": {},
   "outputs": [],
   "source": [
    "import math\n",
    "import scipy as sp\n",
    "import scipy.stats\n",
    "import numpy as np\n",
    "import pandas as pd\n",
    "import matplotlib.pyplot as plt"
   ]
  },
  {
   "cell_type": "markdown",
   "metadata": {},
   "source": [
    "### Задача 1"
   ]
  },
  {
   "cell_type": "raw",
   "metadata": {},
   "source": [
    "1.Даны значения величины заработной платы заемщиков банка (zp) и значения их поведенческого кредитного скоринга (ks):\n",
    "zp = [35, 45, 190, 200, 40, 70, 54, 150, 120, 110],\n",
    "ks = [401, 574, 874, 919, 459, 739, 653, 902, 746, 832].\n",
    "Найдите ковариацию этих двух величин с помощью элементарных действий, а затем с помощью функции cov из numpy.\n",
    "Полученные значения должны быть равны.\n",
    "Найдите коэффициент корреляции Пирсона с помощью ковариации и среднеквадратичных отклонений двух признаков,\n",
    "а затем с использованием функций из библиотек numpy и pandas"
   ]
  },
  {
   "cell_type": "code",
   "execution_count": 59,
   "metadata": {},
   "outputs": [
    {
     "data": {
      "text/plain": [
       "<function matplotlib.pyplot.show(*args, **kw)>"
      ]
     },
     "execution_count": 59,
     "metadata": {},
     "output_type": "execute_result"
    },
    {
     "data": {
      "image/png": "[encoded data removed]",
      "text/plain": [
       "<Figure size 432x288 with 1 Axes>"
      ]
     },
     "metadata": {
      "needs_background": "light"
     },
     "output_type": "display_data"
    }
   ],
   "source": [
    "zp = np.array([35, 45, 190, 200, 40, 70, 54, 150, 120, 110]) # независимая величина\n",
    "ks = np.array([401, 574, 874, 919, 459, 739, 653, 902, 746, 832]) # зависимая величина\n",
    "plt.scatter(zp, ks)\n",
    "plt.gca().set(xlim=(0.0, 250.0), ylim=(0, 1000),\n",
    "              xlabel='Заработная плата', ylabel='Скоринг')\n",
    "plt.show"
   ]
  },
  {
   "cell_type": "code",
   "execution_count": 60,
   "metadata": {},
   "outputs": [
    {
     "name": "stdout",
     "output_type": "stream",
     "text": [
      "Ковариация по формуле равна: 9157.84\n"
     ]
    }
   ],
   "source": [
    "# Расчет ковариации с помощью элементарных действий:\n",
    "cov = np.mean(zp * ks) - np.mean(zp) * np.mean(ks)\n",
    "print(f'Ковариация по формуле равна: {cov:.2f}')"
   ]
  },
  {
   "cell_type": "code",
   "execution_count": 61,
   "metadata": {},
   "outputs": [
    {
     "name": "stdout",
     "output_type": "stream",
     "text": [
      "Ковариация по функции равна: [[ 3494.64  9157.84]\n",
      " [ 9157.84 30468.89]]\n"
     ]
    }
   ],
   "source": [
    "# Расчет ковариации с помощью функции cov из numpy:\n",
    "print(f'Ковариация по функции равна: {np.cov(zp, ks, ddof=0)}')"
   ]
  },
  {
   "cell_type": "code",
   "execution_count": 62,
   "metadata": {},
   "outputs": [],
   "source": [
    "# Стандартное отклонение заработной платы:\n",
    "std_zp = np.std(zp, ddof=0)"
   ]
  },
  {
   "cell_type": "code",
   "execution_count": 63,
   "metadata": {},
   "outputs": [],
   "source": [
    "# Стандартное отклонение поведенческого кредитного скоринга:\n",
    "std_ks = np.std(ks, ddof=0)"
   ]
  },
  {
   "cell_type": "code",
   "execution_count": 64,
   "metadata": {},
   "outputs": [
    {
     "data": {
      "text/plain": [
       "0.8874900920739158"
      ]
     },
     "execution_count": 64,
     "metadata": {},
     "output_type": "execute_result"
    }
   ],
   "source": [
    "# Kоэфициент корреляции Пирсона (линейный коэфициент корреляции) по формуле:\n",
    "R = cov / (std_zp * std_ks)\n",
    "R"
   ]
  },
  {
   "cell_type": "code",
   "execution_count": 65,
   "metadata": {},
   "outputs": [
    {
     "data": {
      "text/plain": [
       "array([[1.        , 0.88749009],\n",
       "       [0.88749009, 1.        ]])"
      ]
     },
     "execution_count": 65,
     "metadata": {},
     "output_type": "execute_result"
    }
   ],
   "source": [
    "# Kоэфициент корреляции Пирсона (линейный коэфициент корреляции) по функции:\n",
    "r = np.corrcoef(zp, ks)\n",
    "r"
   ]
  },
  {
   "cell_type": "markdown",
   "metadata": {},
   "source": [
    "### Задача 2"
   ]
  },
  {
   "cell_type": "raw",
   "metadata": {},
   "source": [
    "2.Измерены значения IQ выборки студентов, обучающихся в местных технических вузах:\n",
    "131, 125, 115, 122, 131, 115, 107, 99, 125, 111.\n",
    "Известно, что в генеральной совокупности IQ распределен нормально.\n",
    "Найдите доверительный интервал для математического ожидания с надежностью 0.95."
   ]
  },
  {
   "cell_type": "raw",
   "metadata": {},
   "source": [
    "n = 10 - объем выборки\n",
    "v = n - 1 - число степеней свободы\n",
    "t = 2.262 для уровня значимости a=0.025 (таблица)"
   ]
  },
  {
   "cell_type": "code",
   "execution_count": 66,
   "metadata": {},
   "outputs": [],
   "source": [
    "# Результаты измерений величины Х:\n",
    "data2 = np.array([131, 125, 115, 122, 131, 115, 107, 99, 125, 111])"
   ]
  },
  {
   "cell_type": "code",
   "execution_count": 67,
   "metadata": {},
   "outputs": [
    {
     "name": "stdout",
     "output_type": "stream",
     "text": [
      "M2 = 118.1, sigma2 = 10.54566788359614\n"
     ]
    }
   ],
   "source": [
    "# Средняя выборочная\n",
    "M2 = data2.sum() / 10\n",
    "# Cреднее квадратическое отклонение\n",
    "sigma2 = np.std(data2, ddof=1) # ddof=1 - несмещенное стандартное отклонение\n",
    "print(f'M2 = {M2}, sigma2 = {sigma2}')"
   ]
  },
  {
   "cell_type": "code",
   "execution_count": 68,
   "metadata": {},
   "outputs": [],
   "source": [
    "def t_confidence_interval(n2, t2, sigma2):\n",
    "    step2 = t2 * sigma2 / math.sqrt(n2)\n",
    "    interval = [6.59 - step2, 6.59 + step2]\n",
    "    return interval"
   ]
  },
  {
   "cell_type": "code",
   "execution_count": 69,
   "metadata": {},
   "outputs": [
    {
     "name": "stdout",
     "output_type": "stream",
     "text": [
      "Средняя выборочная: 118.10, Доверительный интервал: [6.267539511206077, 6.912460488793923]\n"
     ]
    }
   ],
   "source": [
    "print(f'Средняя выборочная: {M2:.2f}, Доверительный интервал: {t_confidence_interval(10, 2.262, 0.4508)}')"
   ]
  },
  {
   "cell_type": "markdown",
   "metadata": {},
   "source": [
    "### Задача 3"
   ]
  },
  {
   "cell_type": "raw",
   "metadata": {},
   "source": [
    "3.Известно, что рост футболистов в сборной распределен нормально\n",
    "с дисперсией генеральной совокупности, равной 25 кв.см. Объем выборки равен 27,\n",
    "среднее выборочное составляет 174.2. Найдите доверительный интервал для математического\n",
    "ожидания с надежностью 0.95."
   ]
  },
  {
   "cell_type": "raw",
   "metadata": {},
   "source": [
    "Z3 = 1.96 для вероятности равной 0,975 (таблица)\n",
    "n3 = 27 - объем выборки\n",
    "a3 = 0.95 - математическое ожидание a с надежностью 0.95\n",
    "M3 = 174.2 - средняя выборочная\n",
    "sigma3 = 5 - среднее квадратическое отклонение"
   ]
  },
  {
   "cell_type": "code",
   "execution_count": 70,
   "metadata": {},
   "outputs": [],
   "source": [
    "def z_confidence_interval(Z3, n3, sigma3):\n",
    "    step3 = Z3 * sigma3 / np.sqrt(n3)\n",
    "    interval = [174.2 - step3, 174.2 + step3]\n",
    "    return interval"
   ]
  },
  {
   "cell_type": "code",
   "execution_count": 71,
   "metadata": {},
   "outputs": [
    {
     "data": {
      "text/plain": [
       "[172.31398912064722, 176.08601087935276]"
      ]
     },
     "execution_count": 71,
     "metadata": {},
     "output_type": "execute_result"
    }
   ],
   "source": [
    "# Доверительный интервал для математического ожидания с надежностью 0.95:\n",
    "z_confidence_interval(1.96, 27, 5)"
   ]
  },
  {
   "cell_type": "code",
   "execution_count": null,
   "metadata": {},
   "outputs": [],
   "source": []
  }
 ],
 "metadata": {
  "kernelspec": {
   "display_name": "Python 3",
   "language": "python",
   "name": "python3"
  },
  "language_info": {
   "codemirror_mode": {
    "name": "ipython",
    "version": 3
   },
   "file_extension": ".py",
   "mimetype": "text/x-python",
   "name": "python",
   "nbconvert_exporter": "python",
   "pygments_lexer": "ipython3",
   "version": "3.7.6"
  }
 },
 "nbformat": 4,
 "nbformat_minor": 4
}
