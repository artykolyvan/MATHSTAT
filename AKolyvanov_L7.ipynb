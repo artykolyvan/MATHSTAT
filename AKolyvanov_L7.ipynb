{
 "cells": [
  {
   "cell_type": "markdown",
   "metadata": {},
   "source": [
    "### Домашнее задание к уроку 7."
   ]
  },
  {
   "cell_type": "code",
   "execution_count": 1,
   "metadata": {},
   "outputs": [],
   "source": [
    "import math\n",
    "import scipy as sp\n",
    "import scipy.stats\n",
    "import numpy as np\n",
    "import pandas as pd\n",
    "import seaborn as sns\n",
    "import matplotlib.pyplot as plt\n",
    "%matplotlib inline"
   ]
  },
  {
   "cell_type": "markdown",
   "metadata": {},
   "source": [
    "### Задача 1"
   ]
  },
  {
   "cell_type": "raw",
   "metadata": {},
   "source": [
    "1. Даны значения величины заработной платы заемщиков банка (zp) и значения их поведенческого кредитного скоринга (ks):\n",
    "zp = [35, 45, 190, 200, 40, 70, 54, 150, 120, 110], ks = [401, 574, 874, 919, 459, 739, 653, 902, 746, 832].\n",
    "Используя математические операции, посчитать коэффициенты линейной регрессии, приняв за X заработную плату\n",
    "(то есть, zp - признак), а за y - значения скорингового балла (то есть, ks - целевая переменная).\n",
    "Произвести расчет как с использованием intercept, так и без."
   ]
  },
  {
   "cell_type": "code",
   "execution_count": 2,
   "metadata": {},
   "outputs": [
    {
     "data": {
      "image/png": "[encoded data removed]",
      "text/plain": [
       "<Figure size 432x288 with 1 Axes>"
      ]
     },
     "metadata": {
      "needs_background": "light"
     },
     "output_type": "display_data"
    }
   ],
   "source": [
    "# Строим график зависимости y от X.\n",
    "X = np.array([35, 45, 190, 200, 40, 70, 54, 150, 120, 110])\n",
    "y = np.array([401, 574, 874, 919, 459, 739, 653, 902, 746, 832])\n",
    "plt.scatter(X, y)\n",
    "plt.show()"
   ]
  },
  {
   "cell_type": "code",
   "execution_count": 3,
   "metadata": {},
   "outputs": [
    {
     "name": "stdout",
     "output_type": "stream",
     "text": [
      "Коэффициент b равен: 2.62\n"
     ]
    }
   ],
   "source": [
    "# Расчет коэффициента b (угла наклона к оси Х):\n",
    "b1 = (np.mean(X*y) - np.mean(X)*np.mean(y)) / (np.mean(X**2)-np.mean(X)**2)\n",
    "print(f'Коэффициент b равен: {b1:.2f}')"
   ]
  },
  {
   "cell_type": "code",
   "execution_count": 4,
   "metadata": {},
   "outputs": [
    {
     "name": "stdout",
     "output_type": "stream",
     "text": [
      "Коэффициент a равен: 444.18\n"
     ]
    }
   ],
   "source": [
    "# Расчет коэффициента a (intercept):\n",
    "a1 = np.mean(y) - b1*np.mean(X)\n",
    "print(f'Коэффициент a равен: {a1:.2f}')"
   ]
  },
  {
   "cell_type": "code",
   "execution_count": 5,
   "metadata": {},
   "outputs": [
    {
     "name": "stdout",
     "output_type": "stream",
     "text": [
      "Оценочные значения y с intercept: [535.18 561.18 938.18 964.18 548.18 626.18 584.58 834.18 756.18 730.18]\n",
      "Оценочные значения y без intercept: [ 206.143   265.041  1119.062  1177.96    235.592   412.286   318.0492\n",
      "  883.47    706.776   647.878 ]\n"
     ]
    }
   ],
   "source": [
    "# Построение линейной модели:\n",
    "y1_hat1 = 444.18 + 2.6 * X # модель с intercept\n",
    "y1_hat2 = 5.8898 * X # модель без intercept\n",
    "print(f'Оценочные значения y с intercept: {y1_hat1}')\n",
    "print(f'Оценочные значения y без intercept: {y1_hat2}')"
   ]
  },
  {
   "cell_type": "code",
   "execution_count": 6,
   "metadata": {},
   "outputs": [
    {
     "name": "stdout",
     "output_type": "stream",
     "text": [
      "Фактические значения y: [401 574 874 919 459 739 653 902 746 832]\n"
     ]
    }
   ],
   "source": [
    "print(f'Фактические значения y: {y}')"
   ]
  },
  {
   "cell_type": "code",
   "execution_count": 7,
   "metadata": {},
   "outputs": [
    {
     "data": {
      "image/png": "[encoded data removed]",
      "text/plain": [
       "<Figure size 432x288 with 1 Axes>"
      ]
     },
     "metadata": {
      "needs_background": "light"
     },
     "output_type": "display_data"
    }
   ],
   "source": [
    "# Построение модели линейной зависимости с intercept:\n",
    "plt.scatter(X, y)\n",
    "plt.plot(X, y1_hat1) # синяя линия\n",
    "plt.plot(X, y1_hat2) # желтая линия\n",
    "plt.show()"
   ]
  },
  {
   "cell_type": "markdown",
   "metadata": {},
   "source": [
    "### Построение модели линейной зависимости матричным методом"
   ]
  },
  {
   "cell_type": "code",
   "execution_count": 8,
   "metadata": {},
   "outputs": [
    {
     "data": {
      "text/plain": [
       "array([[ 35],\n",
       "       [ 45],\n",
       "       [190],\n",
       "       [200],\n",
       "       [ 40],\n",
       "       [ 70],\n",
       "       [ 54],\n",
       "       [150],\n",
       "       [120],\n",
       "       [110]])"
      ]
     },
     "execution_count": 8,
     "metadata": {},
     "output_type": "execute_result"
    }
   ],
   "source": [
    "# Преобразование даных в матричный вид:\n",
    "X_m = X.reshape((10, 1))\n",
    "y_m = y.reshape((10, 1))\n",
    "X_m"
   ]
  },
  {
   "cell_type": "code",
   "execution_count": 9,
   "metadata": {},
   "outputs": [
    {
     "data": {
      "text/plain": [
       "array([[5.88982042]])"
      ]
     },
     "execution_count": 9,
     "metadata": {},
     "output_type": "execute_result"
    }
   ],
   "source": [
    "# Расчет коэффициента b без intercept:\n",
    "B = np.dot(np.linalg.inv(np.dot(X_m.T, X_m)), X_m.T@y_m)\n",
    "B"
   ]
  },
  {
   "cell_type": "code",
   "execution_count": 10,
   "metadata": {},
   "outputs": [
    {
     "data": {
      "text/plain": [
       "array([[  1.,  35.],\n",
       "       [  1.,  45.],\n",
       "       [  1., 190.],\n",
       "       [  1., 200.],\n",
       "       [  1.,  40.],\n",
       "       [  1.,  70.],\n",
       "       [  1.,  54.],\n",
       "       [  1., 150.],\n",
       "       [  1., 120.],\n",
       "       [  1., 110.]])"
      ]
     },
     "execution_count": 10,
     "metadata": {},
     "output_type": "execute_result"
    }
   ],
   "source": [
    "# Добавление столбца intercept\n",
    "X_m = np.hstack([np.ones((10, 1)), X_m])\n",
    "X_m"
   ]
  },
  {
   "cell_type": "code",
   "execution_count": 11,
   "metadata": {},
   "outputs": [
    {
     "data": {
      "text/plain": [
       "array([[444.17735732],\n",
       "       [  2.62053888]])"
      ]
     },
     "execution_count": 11,
     "metadata": {},
     "output_type": "execute_result"
    }
   ],
   "source": [
    "# Расчет коэффициентов a и b:\n",
    "B = np.dot(np.linalg.inv(np.dot(X_m.T, X_m)), X_m.T@y_m)\n",
    "B"
   ]
  },
  {
   "cell_type": "markdown",
   "metadata": {},
   "source": [
    "### Задача 2"
   ]
  },
  {
   "cell_type": "raw",
   "metadata": {},
   "source": [
    "2. Посчитать коэффициент линейной регрессии при заработной плате (zp), используя градиентный спуск (без intercept)."
   ]
  },
  {
   "cell_type": "code",
   "execution_count": 12,
   "metadata": {},
   "outputs": [],
   "source": [
    "# Преобразование даных в векторный вид:\n",
    "X2 = np.array([35, 45, 190, 200, 40, 70, 54, 150, 120, 110])\n",
    "y2 = np.array([401, 574, 874, 919, 459, 739, 653, 902, 746, 832])"
   ]
  },
  {
   "cell_type": "code",
   "execution_count": 13,
   "metadata": {},
   "outputs": [],
   "source": [
    "# Функция средей квадратичной ошибки:\n",
    "def mse_(B1, y=y2, X=X2, n=10):\n",
    "    return np.sum((B1*X2-y2)**2)/n"
   ]
  },
  {
   "cell_type": "code",
   "execution_count": 14,
   "metadata": {},
   "outputs": [
    {
     "data": {
      "text/plain": [
       "1e-06"
      ]
     },
     "execution_count": 14,
     "metadata": {},
     "output_type": "execute_result"
    }
   ],
   "source": [
    "# Скорость обучения (ставится по опыту: должна быть не слишком большая и не слишком маленькая)\n",
    "alpha = 1e-6\n",
    "alpha"
   ]
  },
  {
   "cell_type": "code",
   "execution_count": 15,
   "metadata": {},
   "outputs": [],
   "source": [
    "# Средняя квадратичная ошибка:\n",
    "# mse = (1/n)*np.sum((B1*X-y)**2)\n",
    "# Производная средней квадратичной ошибки:\n",
    "# mse_p = (2/n)*np.sum((B1*X-y)*X)"
   ]
  },
  {
   "cell_type": "code",
   "execution_count": 16,
   "metadata": {},
   "outputs": [
    {
     "name": "stdout",
     "output_type": "stream",
     "text": [
      "B1 = 0.25952808\n",
      "B1 = 0.414660650906144\n",
      "B1 = 0.5655188230595969\n",
      "B1 = 0.7122203698240712\n",
      "B1 = 0.8548798195302346\n",
      "B1 = 0.9936085448867542\n",
      "B1 = 1.1285148499277806\n",
      "B1 = 1.2597040545647504\n",
      "B1 = 1.387278576808517\n",
      "B1 = 1.5113380127259965\n"
     ]
    }
   ],
   "source": [
    "# Начальное значение к-та В1 выбирается из стандартного нормального распределения (т.е. М=0, sigma=1)\n",
    "B1 = 0.1 # Выбирается из интервала от -3 до 3.\n",
    "n = 10\n",
    "for i in range(10):\n",
    "    B1 -=alpha*(2/n)*np.sum((B1*X2-y2)*X2)\n",
    "    print('B1 = {}'.format(B1))"
   ]
  },
  {
   "cell_type": "code",
   "execution_count": 17,
   "metadata": {},
   "outputs": [
    {
     "name": "stdout",
     "output_type": "stream",
     "text": [
      "Iteration: 0, B1 = 1.6319792141937546, mse = 306275.7568040035\n",
      "Iteration: 100, B1 = 5.629340281237233, mse = 57451.59938606899\n",
      "Iteration: 200, B1 = 5.873885137561711, mse = 56520.35675226433\n",
      "Iteration: 300, B1 = 5.888845554134484, mse = 56516.87150850017\n",
      "Iteration: 400, B1 = 5.889760781170516, mse = 56516.85846472009\n",
      "Iteration: 500, B1 = 5.889816771625289, mse = 56516.8584159028\n",
      "Iteration: 600, B1 = 5.889820196929507, mse = 56516.85841572009\n",
      "Iteration: 700, B1 = 5.8898204064778845, mse = 56516.85841571941\n",
      "Iteration: 800, B1 = 5.889820419297334, mse = 56516.85841571941\n",
      "Iteration: 900, B1 = 5.889820420081584, mse = 56516.85841571941\n"
     ]
    }
   ],
   "source": [
    "for i in range(1000):\n",
    "    B1 -=alpha*(2/n)*np.sum((B1*X2-y2)*X2)\n",
    "    if i%100==0:\n",
    "        print('Iteration: {i}, B1 = {B1}, mse = {mse}'.format(i=i, B1=B1, mse=mse_(B1)))"
   ]
  },
  {
   "cell_type": "code",
   "execution_count": 18,
   "metadata": {},
   "outputs": [
    {
     "data": {
      "text/plain": [
       "56516.85841572182"
      ]
     },
     "execution_count": 18,
     "metadata": {},
     "output_type": "execute_result"
    }
   ],
   "source": [
    "# Средняя квадратичная ошибка по функции:\n",
    "mse_(5.889820)"
   ]
  },
  {
   "cell_type": "markdown",
   "metadata": {},
   "source": [
    "### Задача 3"
   ]
  },
  {
   "cell_type": "raw",
   "metadata": {},
   "source": [
    "3. В каких случаях для вычисления доверительных интервалов и проверки статистических гипотез используется\n",
    "таблица значений функции Лапласа, а в каких - таблица критических точек распределения Стьюдента?"
   ]
  },
  {
   "cell_type": "raw",
   "metadata": {},
   "source": [
    "Tаблица критических точек распределения Стьюдента применяется при неизвестной средней квадратической ошибке.\n",
    "Tаблица значений функции Лапласа применяется когда известна дисперсия или стандартное отклонение."
   ]
  },
  {
   "cell_type": "markdown",
   "metadata": {},
   "source": [
    "### Задача 4"
   ]
  },
  {
   "cell_type": "raw",
   "metadata": {},
   "source": [
    "4. Произвести вычисления как в пункте 2, но с вычислением intercept.\n",
    "Учесть, что изменение коэффициентов должно производиться на каждом шаге одновременно\n",
    "(то есть изменение одного коэффициента не должно влиять на изменение другого во время одной итерации)."
   ]
  },
  {
   "cell_type": "code",
   "execution_count": 19,
   "metadata": {},
   "outputs": [],
   "source": [
    "# Выбираем начальные значения коэффициентов a и b:\n",
    "a4 = 0.1\n",
    "b4 = 0.1"
   ]
  },
  {
   "cell_type": "code",
   "execution_count": 20,
   "metadata": {},
   "outputs": [
    {
     "data": {
      "text/plain": [
       "1e-05"
      ]
     },
     "execution_count": 20,
     "metadata": {},
     "output_type": "execute_result"
    }
   ],
   "source": [
    "# Скорость обучения (ставится по опыту: должна быть не слишком большая и не слишком маленькая)\n",
    "alpha4 = 1e-5\n",
    "alpha4"
   ]
  },
  {
   "cell_type": "code",
   "execution_count": 21,
   "metadata": {},
   "outputs": [],
   "source": [
    "# Функция средей квадратичной ошибки:\n",
    "def mse4_(a4, b4, y=y, X=X, n=10):\n",
    "    return np.sum((a4 + b4*X - y)**2)/n"
   ]
  },
  {
   "cell_type": "code",
   "execution_count": 22,
   "metadata": {},
   "outputs": [
    {
     "name": "stdout",
     "output_type": "stream",
     "text": [
      "Iteration: 0, a = 0.1139932, b = 1.6950780000000003, mse = 298805.38996099564\n",
      "Iteration: 300000, a = 347.24756959921285, b = 3.333984975180734, mse = 8853.693377127487\n",
      "Iteration: 600000, a = 423.0181317603773, b = 2.77628013758468, mse = 6583.983235150707\n",
      "Iteration: 900000, a = 439.55841781180436, b = 2.6545363193656377, mse = 6475.8260411356305\n",
      "Iteration: 1200000, a = 443.1690688992334, b = 2.6279603310016144, mse = 6470.672088478478\n",
      "Iteration: 1500000, a = 443.95725365219454, b = 2.6221589427433236, mse = 6470.4264901321585\n",
      "Iteration: 1800000, a = 444.12930993504966, b = 2.6208925324310575, mse = 6470.4147867752\n",
      "Iteration: 2100000, a = 444.1668688504738, b = 2.6206160822077855, mse = 6470.414229081847\n",
      "Iteration: 2400000, a = 444.17506774970946, b = 2.6205557346844697, mse = 6470.414202506412\n",
      "Iteration: 2700000, a = 444.17685752314003, b = 2.620542561160716, mse = 6470.414201240024\n",
      "Iteration: 3000000, a = 444.17724822057306, b = 2.6205396854548715, mse = 6470.414201179678\n",
      "Iteration: 3300000, a = 444.1773335076172, b = 2.6205390577045193, mse = 6470.4142011768035\n"
     ]
    }
   ],
   "source": [
    "for i in range(3500000):\n",
    "    y4_hut = a4 + b4*X\n",
    "    a4 -=alpha4*(2/n)*np.sum((y4_hut - y))\n",
    "    b4 -=alpha4*(2/n)*np.sum((y4_hut - y)*X)\n",
    "    if i%300000==0:\n",
    "        print('Iteration: {i}, a = {a4}, b = {b4}, mse = {mse}'.format(i=i, a4=a4, b4=b4, mse=mse4_(a4, b4)))"
   ]
  },
  {
   "cell_type": "code",
   "execution_count": null,
   "metadata": {},
   "outputs": [],
   "source": []
  },
  {
   "cell_type": "code",
   "execution_count": null,
   "metadata": {},
   "outputs": [],
   "source": []
  }
 ],
 "metadata": {
  "kernelspec": {
   "display_name": "Python 3",
   "language": "python",
   "name": "python3"
  },
  "language_info": {
   "codemirror_mode": {
    "name": "ipython",
    "version": 3
   },
   "file_extension": ".py",
   "mimetype": "text/x-python",
   "name": "python",
   "nbconvert_exporter": "python",
   "pygments_lexer": "ipython3",
   "version": "3.7.6"
  }
 },
 "nbformat": 4,
 "nbformat_minor": 4
}
